{
 "cells": [
  {
   "cell_type": "markdown",
   "id": "2f3a781c-4c86-4f65-91ba-17da8dd0315c",
   "metadata": {},
   "source": [
    "# DiceServer - Examen de Programmation Réseau\n",
    "\n",
    "## Ce qu'il faut rendre à la fin\n",
    "\n",
    "Les notebooks client et serveur, le fichier de capture Wireshark et les réponses aux questions dans un fichier texte.\n",
    "\n",
    "## Objectif\n",
    "\n",
    "Créer un serveur qui simule le lancer de dés et le client associé. Le serveur renvoie le résultat d'un ou plusieurs lancers de dés en fonction de la commande envoyée par le client.\n",
    "\n",
    "## Le projet\n",
    "\n",
    "Le projet doit être nommé `diceserver`. Il est constitué de deux scripts :\n",
    "\n",
    "1. **DiceServer** : le serveur qui répond aux requêtes du client :\n",
    "   - `roll` : Le serveur simule un lancer de dé à 6 faces et renvoie un nombre compris entre 1 et 6.\n",
    "   - `roll n` : Le serveur effectue `n` lancers de dés (par exemple, `roll 3` pour trois lancers) et renvoie les résultats.\n",
    "\n",
    "2. **DiceClient** : le client qui envoie une commande pour demander un lancer de dés au serveur et affiche les résultats.\n",
    "\n",
    "### Exemple d'utilisation\n",
    "\n",
    "Requête : roll\n",
    "> Réponse : 4\n",
    "\n",
    "Requête : roll 3\n",
    "> Réponse : 2, 5, 6\n",
    "\n",
    "##  Analyse Wireshark\n",
    "\n",
    "Réalisez une capture Wireshark montrant l'interaction entre le serveur et le client. Comme vous êtes en localhost, utilisez l'interface de loopback.\n",
    "\n",
    "Enregistrez ce fichier. \n",
    "\n",
    "Questions : \n",
    "\n",
    "* Quel est le numéro de port utilisé par le client ? Qui a choisi d'utiliser ce numéro de port ?\n",
    "\n",
    "* Quelle adresse IP est associée à l'interface de loopback ? Pourquoi est-ce cette adresse ?\n",
    "\n",
    "* Quelles sont les trames encapsulant la poignée de main TCP ? \n",
    "\n",
    "* Quelles sont les trames encapsulant la fin de connexion TCP ? \n",
    "\n",
    "* Pour l'application que vous avez développé, TCP est-il le meilleur protocole de la couche transport ? Justifiez votre choix.\n",
    "\n",
    "## Quelques pistes\n",
    "\n",
    "Pour le client, réutilisez le `Console_client` utilisé précédemment. \n",
    "\n",
    "Il est possible de générer un entier aléatoirement entre 1 et 6 ainsi : \n"
   ]
  },
  {
   "cell_type": "code",
   "execution_count": 1,
   "id": "575671a3-5e19-4521-af5c-4cd619661a4d",
   "metadata": {},
   "outputs": [
    {
     "name": "stdout",
     "output_type": "stream",
     "text": [
      "1\n"
     ]
    }
   ],
   "source": [
    "from random import randint\n",
    "\n",
    "random_int = randint(1, 6)\n",
    "print(random_int)"
   ]
  },
  {
   "cell_type": "code",
   "execution_count": null,
   "id": "f41f79f9-23ca-47c5-94c4-a20f7892833c",
   "metadata": {},
   "outputs": [],
   "source": []
  },
  {
   "cell_type": "code",
   "execution_count": null,
   "id": "e158260a-3751-4392-a633-461056a3b9fb",
   "metadata": {},
   "outputs": [],
   "source": []
  }
 ],
 "metadata": {
  "kernelspec": {
   "display_name": "Python 3 (ipykernel)",
   "language": "python",
   "name": "python3"
  },
  "language_info": {
   "codemirror_mode": {
    "name": "ipython",
    "version": 3
   },
   "file_extension": ".py",
   "mimetype": "text/x-python",
   "name": "python",
   "nbconvert_exporter": "python",
   "pygments_lexer": "ipython3",
   "version": "3.8.17"
  }
 },
 "nbformat": 4,
 "nbformat_minor": 5
}
